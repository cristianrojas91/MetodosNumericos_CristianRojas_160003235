{
 "cells": [
  {
   "cell_type": "markdown",
   "metadata": {},
   "source": [
    "# Ejercicio #7 Metodos Numericos\n",
    "###Tema: Metodo Punto Fijo (Ejercicio1)\n",
    "Estudiante: Cristian Alexander Rojas Aza\n",
    "\n",
    "Codigo: 160003235"
   ]
  },
  {
   "cell_type": "code",
   "execution_count": 3,
   "metadata": {
    "collapsed": false
   },
   "outputs": [
    {
     "name": "stdout",
     "output_type": "stream",
     "text": [
      "i\t Total\n",
      "\n",
      "0 \t1.5\n",
      "1 \t2.625\n",
      "2 \t4.9453125\n",
      "3 \t13.7280578613\n",
      "4 \t95.729786322\n",
      "5 \t4583.59599463\n",
      "6 \t10504677.621\n",
      "7 \t5.51741259603e+13\n",
      "8 \t1.52209208774e+27\n",
      "9 \t1.15838216179e+54\n",
      "10 \t6.70924616372e+107\n"
     ]
    }
   ],
   "source": [
    "#!/usr/bin/env python\n",
    "# -*- coding: utf-8 -*-\n",
    "\n",
    "import math\n",
    "import sys\n",
    "import matplotlib.pyplot as pl\n",
    "\n",
    "x1=[]\n",
    "y1=[]\n",
    "\n",
    "def calculo():\n",
    "    \n",
    "    i=0\n",
    "    x=0.0\n",
    "    print \"i\\t Total\\n\"\n",
    "    while(i<=10):\n",
    "        \n",
    "        total = (3 + x**2)/2\n",
    "        print i, \"\\t\", total\n",
    "        x = total\n",
    "        i=i+1\n",
    "\n",
    "def funcion():\n",
    "    \n",
    "    global x1,y1\n",
    "    x=-10\n",
    "    while(x<=10):\n",
    "        \n",
    "        total = (x**2)- (2*x) + 3\n",
    "        x1.append(x)\n",
    "        y1.append(total)\n",
    "        x=x+1\n",
    "        \n",
    "def graficar():\n",
    "    \n",
    "    global x1,y1\n",
    "    pl.plot(x1,y1,\"r\", label=\"funcion: (x^2)-2x+3\")\n",
    "    pl.title(\"Funcion\")\n",
    "    pl.xlabel(\"X\")\n",
    "    pl.ylabel(\"Y\")\n",
    "    pl.legend(loc=\"upper center\")\n",
    "    pl.grid()\n",
    "    pl.show()\n",
    "            \n",
    "def main():\n",
    "    calculo()\n",
    "    funcion()\n",
    "    graficar()\n",
    "    \n",
    "if __name__ == \"__main__\":\n",
    "    main()"
   ]
  },
  {
   "cell_type": "code",
   "execution_count": null,
   "metadata": {
    "collapsed": true
   },
   "outputs": [],
   "source": []
  }
 ],
 "metadata": {
  "kernelspec": {
   "display_name": "Python 2",
   "language": "python",
   "name": "python2"
  },
  "language_info": {
   "codemirror_mode": {
    "name": "ipython",
    "version": 2
   },
   "file_extension": ".py",
   "mimetype": "text/x-python",
   "name": "python",
   "nbconvert_exporter": "python",
   "pygments_lexer": "ipython2",
   "version": "2.7.10"
  }
 },
 "nbformat": 4,
 "nbformat_minor": 0
}
