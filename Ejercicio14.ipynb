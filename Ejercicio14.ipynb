{
 "cells": [
  {
   "cell_type": "markdown",
   "metadata": {},
   "source": [
    "# Ejercicio #14 Metodos Numericos\n",
    "###Tema: Regresion Lineal #1\n",
    "Estudiante: Cristian Alexander Rojas Aza\n",
    "\n",
    "Codigo: 160003235"
   ]
  },
  {
   "cell_type": "code",
   "execution_count": 1,
   "metadata": {
    "collapsed": false
   },
   "outputs": [
    {
     "name": "stdout",
     "output_type": "stream",
     "text": [
      "Media:  20.4\n",
      "Varianza:  1.93684210526\n",
      "Desviacion Estandar:  1.39170474788\n"
     ]
    }
   ],
   "source": [
    "#!/usr/bin/env python\n",
    "# -*- coding: utf-8 -*-\n",
    "\n",
    "import math\n",
    "import sys\n",
    "import matplotlib.pyplot as pl\n",
    "\n",
    "valores = [19,19,23,21,21,21,19,18,20,22,22,21,19,19,20,20,20,21,20,23]\n",
    "total = 0.0\n",
    "datos = 0.0\n",
    "\n",
    "def media():\n",
    "    \n",
    "    global valores,total\n",
    "    suma = 0.0\n",
    "    \n",
    "    for i in valores:\n",
    "        suma += i\n",
    "        \n",
    "    total = suma/20\n",
    "    print \"Media: \", total\n",
    "    \n",
    "def varianza():\n",
    "    \n",
    "    global valores,total,datos\n",
    "    suma =0.0\n",
    "    \n",
    "    for i in valores:\n",
    "        suma += (i-total)**2\n",
    "    \n",
    "    datos = suma/(20-1)\n",
    "    print \"Varianza: \", datos\n",
    "    \n",
    "def desviacion_estandar():\n",
    "    \n",
    "    global datos\n",
    "    resultado = 0.0\n",
    "    \n",
    "    resultado = math.sqrt(datos)\n",
    "    print \"Desviacion Estandar: \", resultado\n",
    "    \n",
    "    \n",
    "def main():\n",
    "    media()\n",
    "    varianza()\n",
    "    desviacion_estandar()\n",
    "    \n",
    "if __name__ == \"__main__\":\n",
    "    main()\n"
   ]
  },
  {
   "cell_type": "markdown",
   "metadata": {
    "collapsed": true
   },
   "source": [
    "##Regresion Lineal #1"
   ]
  },
  {
   "cell_type": "code",
   "execution_count": 2,
   "metadata": {
    "collapsed": false
   },
   "outputs": [
    {
     "name": "stdout",
     "output_type": "stream",
     "text": [
      "MediaX:  10.5\n",
      "MediaY:  20.4\n",
      "a1:  0.0285714285714\n",
      "a0:  20.1\n"
     ]
    }
   ],
   "source": [
    "#!/usr/bin/env python\n",
    "# -*- coding: utf-8 -*-\n",
    "\n",
    "import math\n",
    "import sys\n",
    "import matplotlib.pyplot as pl\n",
    "\n",
    "valoresxi = [1,2,3,4,5,6,7,8,9,10,11,12,13,14,15,16,17,18,19,20]\n",
    "valoresyi = [19,19,23,21,21,21,19,18,20,22,22,21,19,19,20,20,20,21,20,23]\n",
    "mediay = 0.0\n",
    "mediax = 0.0\n",
    "sum_datosxiyi = 0.0\n",
    "sum_datosxi=0.0\n",
    "sum_datosyi=0.0\n",
    "sum_xi2=0.0\n",
    "sum_xial2=0.0\n",
    "mul_xiyi=0.0\n",
    "xi=1.0\n",
    "a1=0.0\n",
    "a0=0.0\n",
    "y=0.0\n",
    "eje_y=[]\n",
    "eje_x=[]\n",
    "\n",
    "def media():\n",
    "    \n",
    "    global valoresyi,valoresxi,mediax,mediay\n",
    "    suma1 = 0.0\n",
    "    suma2= 0.0\n",
    "    \n",
    "    for i in valoresyi:\n",
    "        suma1 += i\n",
    "        \n",
    "    for j in valoresxi:\n",
    "        suma2 += j\n",
    "        \n",
    "    mediay = suma1/20\n",
    "    mediax = suma2/20\n",
    "    print \"MediaX: \", mediax\n",
    "    print \"MediaY: \", mediay\n",
    "    \n",
    "    \n",
    "\n",
    "def calculos():\n",
    "    \n",
    "    global sum_datosxiyi,sum_datosxi,sum_datosyi,sum_xi2,sum_xi2al2,xi,a1,a0\n",
    "    \n",
    "    for i in valoresyi:\n",
    "        \n",
    "        sum_datosxiyi = sum_datosxiyi + (xi*i)\n",
    "        sum_datosxi = sum_datosxi + xi\n",
    "        sum_datosyi = sum_datosyi + i\n",
    "        sum_xi2 = sum_xi2 + (xi**2)\n",
    "        sum_xi2al2 = (sum_datosxi**2)\n",
    "        xi=xi+1\n",
    "    \n",
    "    a1 = ((20*sum_datosxiyi)-(sum_datosxi*sum_datosyi))/((20*sum_xi2)-sum_xi2al2)\n",
    "    a0 = mediay-(a1*mediax)\n",
    "    \n",
    "    print \"a1: \", a1\n",
    "    print \"a0: \", a0\n",
    "        \n",
    "\n",
    "def graficar():\n",
    "    \n",
    "    global eje_y,a1,a0,valoresxi,y,eje_x,valoresyi\n",
    "    \n",
    "    for x in valoresxi:\n",
    "        \n",
    "        y = a0 + (a1*x)\n",
    "        eje_y.append(y)\n",
    "        eje_x.append(x)\n",
    "    \n",
    "    pl.plot(eje_x,eje_y,\"r\", label=\"Recta y=a0+a1*x\") \n",
    "    pl.plot(valoresxi,valoresyi,\"o\", label=\"Puntos xi,yi\")\n",
    "    pl.title(\"Grafica\")\n",
    "    pl.legend(loc=\"upper center\")\n",
    "    pl.grid()\n",
    "    pl.show()\n",
    "    \n",
    "    \n",
    "    \n",
    "def main():\n",
    "    media()\n",
    "    calculos()\n",
    "    graficar()\n",
    "    \n",
    "    \n",
    "if __name__ == \"__main__\":\n",
    "    main()"
   ]
  },
  {
   "cell_type": "code",
   "execution_count": null,
   "metadata": {
    "collapsed": true
   },
   "outputs": [],
   "source": []
  }
 ],
 "metadata": {
  "kernelspec": {
   "display_name": "Python 2",
   "language": "python",
   "name": "python2"
  },
  "language_info": {
   "codemirror_mode": {
    "name": "ipython",
    "version": 2
   },
   "file_extension": ".py",
   "mimetype": "text/x-python",
   "name": "python",
   "nbconvert_exporter": "python",
   "pygments_lexer": "ipython2",
   "version": "2.7.10"
  }
 },
 "nbformat": 4,
 "nbformat_minor": 0
}
