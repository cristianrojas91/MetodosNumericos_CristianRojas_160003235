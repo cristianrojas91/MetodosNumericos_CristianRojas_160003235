{
 "cells": [
  {
   "cell_type": "markdown",
   "metadata": {},
   "source": [
    "# Implementacion de los pasos de Eliminacion de Gauss Simple:\n",
    "\n",
    "### 1) Eliminacion hacia adelante de incognitas\n",
    "### 2) Sustitucion hacia atras\n",
    "\n",
    "Estudiante: Cristian Alexander Rojas Aza\n",
    "\n",
    "Codigo: 160003235"
   ]
  },
  {
   "cell_type": "code",
   "execution_count": 10,
   "metadata": {
    "collapsed": false
   },
   "outputs": [
    {
     "name": "stdout",
     "output_type": "stream",
     "text": [
      "------------Matriz-----------\n",
      "\n",
      "[10.0, 2.0, -1.0]\n",
      "[0.0, -5.4, 1.7]\n",
      "[0.0, 0.0, 5.351851851851851]\n",
      "\n",
      "----------Resultado----------\n",
      "\n",
      "[0.5, 8.0, -6.0]\n"
     ]
    }
   ],
   "source": [
    "#!/usr/bin/env python\n",
    "# -*- coding: utf-8 -*-\n",
    "\n",
    "import math\n",
    "import sys\n",
    "\n",
    "def calcular():\n",
    "    \n",
    "    n = 3\n",
    "    factor = 0.0\n",
    "    b = [27.0,-61.5,-21.5]\n",
    "    x = [0.0,0.0,0.0]\n",
    "    \n",
    "    a = [[10.0,2.0,-1.0],[-3.0,-6.0,2.0],[1.0,1.0,5.0]]\n",
    "    \n",
    "    for k in range(0,n-1):\n",
    "        \n",
    "        for i in range(k+1,n):\n",
    "            \n",
    "            factor=(a[i][k])/(a[k][k])\n",
    "            \n",
    "            for j in range(k,n):\n",
    "                a[i][j]=a[i][j]-factor*a[k][j]\n",
    "            b[i]=b[i]-factor*b[k]\n",
    "    \n",
    "    print \"------------Matriz-----------\\n\"\n",
    "    print a[0]\n",
    "    print a[1]\n",
    "    print a[2]\n",
    "    print \"\\n----------Resultado----------\\n\"\n",
    "    \n",
    "    nn=2\n",
    "    \n",
    "    x[nn]=b[nn]/a[nn][nn]\n",
    "    \n",
    "    for i in range(n-1,-1,-1):\n",
    "        \n",
    "        sum=b[i]\n",
    "        \n",
    "        for j in range(i+1,n):\n",
    "            sum=sum - ((a[i][j])*x[j])\n",
    "        x[i]=sum/a[i][i]\n",
    "    \n",
    "    print x\n",
    "    \n",
    "            \n",
    "def main():\n",
    "    calcular()\n",
    "    \n",
    "if __name__ == \"__main__\":\n",
    "    main()"
   ]
  }
 ],
 "metadata": {
  "kernelspec": {
   "display_name": "Python 2",
   "language": "python",
   "name": "python2"
  },
  "language_info": {
   "codemirror_mode": {
    "name": "ipython",
    "version": 2
   },
   "file_extension": ".py",
   "mimetype": "text/x-python",
   "name": "python",
   "nbconvert_exporter": "python",
   "pygments_lexer": "ipython2",
   "version": "2.7.10"
  }
 },
 "nbformat": 4,
 "nbformat_minor": 0
}
