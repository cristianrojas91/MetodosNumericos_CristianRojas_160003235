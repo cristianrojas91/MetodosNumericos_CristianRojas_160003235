{
 "cells": [
  {
   "cell_type": "markdown",
   "metadata": {},
   "source": [
    "# Ejercicio #17 Metodos Numericos\n",
    "###Tema: Interpolacion Cuadratica\n",
    "Estudiante: Cristian Alexander Rojas Aza\n",
    "\n",
    "Codigo: 160003235"
   ]
  },
  {
   "cell_type": "code",
   "execution_count": 5,
   "metadata": {
    "collapsed": false
   },
   "outputs": [
    {
     "name": "stdout",
     "output_type": "stream",
     "text": [
      "0.0\n",
      "0.565844346901\n",
      "1.02794246727\n",
      "1.38629436112\n",
      "1.64090002844\n",
      "1.79175946923\n"
     ]
    }
   ],
   "source": [
    "#!/usr/bin/env python\n",
    "# -*- coding: utf-8 -*-\n",
    "\n",
    "import math\n",
    "import sys\n",
    "import numpy as np\n",
    "import matplotlib.pyplot as pl\n",
    "\n",
    "x=[1,2,3,4,5,6]\n",
    "y=[]\n",
    "eje_y=[]\n",
    "eje_ylog=[]\n",
    "datos = np.linspace(1.0, 6.0, num=200)\n",
    "\n",
    "x0=1.0\n",
    "x1=4.0\n",
    "x2=6.0\n",
    "\n",
    "def calculos():\n",
    "    \n",
    "    global x0,x1,x2,x,y,eje_y,datos,eje_ylog\n",
    "        \n",
    "    for i in x:\n",
    "\n",
    "        b0 = f(x0)\n",
    "        b1 = (f(x1)-f(x0))/(x1-x0)\n",
    "        b2 = (((f(x2)-f(x1))/(x2-x1))-b1)/(x2-x0)\n",
    "\n",
    "        fx2 = b0 + b1*(i-1) + b2*(i-1)*(i-4)\n",
    "\n",
    "        eje_y.append(fx2)\n",
    "        print fx2\n",
    "        y.append(math.log(i))\n",
    "        \n",
    "    \n",
    "    \n",
    "    for j in datos:\n",
    "        \n",
    "        eje_ylog.append(math.log(j))\n",
    "        \n",
    "        \n",
    "\n",
    "def funcion(b0,b1,b2,x,x0,x1):\n",
    "    \n",
    "    fx2 = b0 + b1*(x-x0) + b2*(x-x0)*(x-x1)\n",
    "    \n",
    "    return fx2\n",
    "\n",
    "def f(x):\n",
    "    return math.log(x)\n",
    "\n",
    "        \n",
    "def graficar():\n",
    "    \n",
    "    global x,y, eje_y, eje_ylog, datos\n",
    "    \n",
    "    pl.plot(x,y,\"o\", label=\"funcion: Ln(x)\")\n",
    "    pl.plot(x,eje_y,\"r\", label=\"Interpolacion Cuadratica\")\n",
    "    pl.plot(datos,eje_ylog,\"g\", label=\"funcion Real\")\n",
    "    pl.title(\"Interpolacion\")\n",
    "    pl.legend(loc=\"lower right\")\n",
    "    pl.grid()\n",
    "    pl.show()\n",
    "            \n",
    "def main():\n",
    "    calculos()\n",
    "    graficar()\n",
    "    \n",
    "if __name__ == \"__main__\":\n",
    "    main()"
   ]
  },
  {
   "cell_type": "code",
   "execution_count": null,
   "metadata": {
    "collapsed": true
   },
   "outputs": [],
   "source": []
  }
 ],
 "metadata": {
  "kernelspec": {
   "display_name": "Python 2",
   "language": "python",
   "name": "python2"
  },
  "language_info": {
   "codemirror_mode": {
    "name": "ipython",
    "version": 2
   },
   "file_extension": ".py",
   "mimetype": "text/x-python",
   "name": "python",
   "nbconvert_exporter": "python",
   "pygments_lexer": "ipython2",
   "version": "2.7.10"
  }
 },
 "nbformat": 4,
 "nbformat_minor": 0
}
