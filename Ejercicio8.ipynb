{
 "cells": [
  {
   "cell_type": "markdown",
   "metadata": {},
   "source": [
    "# Ejercicio #8 Metodos Numericos\n",
    "###Tema: Metodo Punto Fijo (Ejercicio2)\n",
    "Estudiante: Cristian Alexander Rojas Aza\n",
    "\n",
    "Codigo: 160003235"
   ]
  },
  {
   "cell_type": "code",
   "execution_count": 4,
   "metadata": {
    "collapsed": false
   },
   "outputs": [
    {
     "name": "stdout",
     "output_type": "stream",
     "text": [
      "i\t Total\t\t\t Ea\t\t\t Et\n",
      "\n",
      "1 \t1.0000000000 \t\t100.0000000000 \t\t76.3222835626\n",
      "2 \t0.3678794412 \t\t171.8281828459 \t\t35.1346568569\n",
      "3 \t0.6922006276 \t\t46.8536394613 \t\t22.0503953340\n",
      "4 \t0.5004735006 \t\t38.3091465933 \t\t11.7553695181\n",
      "5 \t0.6062435351 \t\t17.4467896812 \t\t6.8942445013\n",
      "6 \t0.5453957860 \t\t11.1566225254 \t\t3.8345695715\n",
      "7 \t0.5796123355 \t\t5.9033508144 \t\t2.1985705770\n",
      "8 \t0.5601154614 \t\t3.4808669796 \t\t1.2391627941\n",
      "9 \t0.5711431151 \t\t1.9308039313 \t\t0.7052582920\n",
      "10 \t0.5648793474 \t\t1.1088682421 \t\t0.3991835307\n"
     ]
    }
   ],
   "source": [
    "#!/usr/bin/env python\n",
    "# -*- coding: utf-8 -*-\n",
    "\n",
    "import math\n",
    "import sys\n",
    "import matplotlib.pyplot as pl\n",
    "\n",
    "x1=[]\n",
    "y1=[]\n",
    "\n",
    "def calculo():\n",
    "    \n",
    "    i=1\n",
    "    x=0.0\n",
    "    real = 0.56714329\n",
    "    print \"i\\t Total\\t\\t\\t Ea\\t\\t\\t Et\\n\"\n",
    "    while(i<=10):\n",
    "        \n",
    "        total = math.exp(-x) \n",
    "        \n",
    "        Ea = ((total-x)/total)*100\n",
    "        Et = ((real-total)/real)*100\n",
    "        \n",
    "        print i, \"\\t%.10f\"%total, \"\\t\\t%.10f\"%abs(Ea), \"\\t\\t%.10f\"%abs(Et)\n",
    "        x = total\n",
    "        i=i+1\n",
    "\n",
    "def funcion():\n",
    "    \n",
    "    global x1,y1\n",
    "    x=-2\n",
    "    while(x<=2):\n",
    "        \n",
    "        total = math.exp(-x) - x\n",
    "        x1.append(x)\n",
    "        y1.append(total)\n",
    "        x=x+1\n",
    "        \n",
    "def graficar():\n",
    "    \n",
    "    global x1,y1\n",
    "    pl.plot(x1,y1,\"r\", label=\"funcion: (e^-x)-x\")\n",
    "    pl.title(\"Funcion\")\n",
    "    pl.xlabel(\"X\")\n",
    "    pl.ylabel(\"Y\")\n",
    "    pl.legend(loc=\"upper center\")\n",
    "    pl.grid()\n",
    "    pl.show()\n",
    "            \n",
    "def main():\n",
    "    calculo()\n",
    "    funcion()\n",
    "    graficar()\n",
    "    \n",
    "if __name__ == \"__main__\":\n",
    "    main()"
   ]
  },
  {
   "cell_type": "code",
   "execution_count": null,
   "metadata": {
    "collapsed": true
   },
   "outputs": [],
   "source": []
  }
 ],
 "metadata": {
  "kernelspec": {
   "display_name": "Python 2",
   "language": "python",
   "name": "python2"
  },
  "language_info": {
   "codemirror_mode": {
    "name": "ipython",
    "version": 2
   },
   "file_extension": ".py",
   "mimetype": "text/x-python",
   "name": "python",
   "nbconvert_exporter": "python",
   "pygments_lexer": "ipython2",
   "version": "2.7.10"
  }
 },
 "nbformat": 4,
 "nbformat_minor": 0
}
