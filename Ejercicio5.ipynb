{
 "cells": [
  {
   "cell_type": "markdown",
   "metadata": {},
   "source": [
    "# Ejercicio #5 Metodos Numericos\n",
    "###Tema: Diferenciacion Numerica\n",
    "Estudiante: Cristian Alexander Rojas Aza\n",
    "\n",
    "Codigo: 160003235"
   ]
  },
  {
   "cell_type": "code",
   "execution_count": 17,
   "metadata": {
    "collapsed": false
   },
   "outputs": [
    {
     "name": "stdout",
     "output_type": "stream",
     "text": [
      "Ingrese el valor de h: 0.5\n",
      "\n",
      "Diferencias Divididas\n",
      "\n",
      "Hacia Adelante: -1.4500 \tError(%):  58.9041\n",
      "Hacia Atras:  \t-0.5500 \tError(%):  39.7260\n",
      "Centrada:  \t-1.0000 \tError(%):  9.5890\n",
      "\n",
      "Derivada:  -0.9125\n"
     ]
    }
   ],
   "source": [
    "#!/usr/bin/env python\n",
    "# -*- coding: utf-8 -*-\n",
    "\n",
    "import math\n",
    "\n",
    "x = 0.5\n",
    "derivada = -0.4*(x**3)-0.45*(x**2)-x-0.25\n",
    "\n",
    "def funcion(x):\n",
    "    total = -0.1*(x**4) - 0.15*(x**3) - 0.5*(x**2) - 0.25*x + 1.2\n",
    "    return total\n",
    "\n",
    "def calculo(h):\n",
    "    \n",
    "    global x, derivada\n",
    "        \n",
    "    f1 = (funcion(x+h)-funcion(x))/h\n",
    "    f2 = (funcion(x)-funcion(x-h))/h\n",
    "    f3 = (funcion(x+h)-funcion(x-h))/(2*h)\n",
    "\n",
    "    error1 = ((derivada-f1)/derivada)*100\n",
    "    error2 = ((derivada-f2)/derivada)*100\n",
    "    error3 = ((derivada-f3)/derivada)*100\n",
    "\n",
    "    print \"\\nDiferencias Divididas\\n\"\n",
    "    print \"Hacia Adelante:\", \"%.4f\" % f1, \"\\tError(%): \", \"%.4f\" % abs(error1)\n",
    "    print \"Hacia Atras: \", \"\\t%.4f\" % f2, \"\\tError(%): \", \"%.4f\" % abs(error2) \n",
    "    print \"Centrada: \", \"\\t%.4f\" % f3, \"\\tError(%): \", \"%.4f\" % abs(error3)\n",
    "    print \"\\nDerivada: \", \"%.4f\" % derivada\n",
    "            \n",
    "def main():\n",
    "    \n",
    "    h = input(\"Ingrese el valor de h: \")\n",
    "    calculo(h)\n",
    "    \n",
    "\n",
    "if __name__ == \"__main__\":\n",
    "    main()"
   ]
  }
 ],
 "metadata": {
  "kernelspec": {
   "display_name": "Python 2",
   "language": "python",
   "name": "python2"
  },
  "language_info": {
   "codemirror_mode": {
    "name": "ipython",
    "version": 2
   },
   "file_extension": ".py",
   "mimetype": "text/x-python",
   "name": "python",
   "nbconvert_exporter": "python",
   "pygments_lexer": "ipython2",
   "version": "2.7.10"
  }
 },
 "nbformat": 4,
 "nbformat_minor": 0
}
