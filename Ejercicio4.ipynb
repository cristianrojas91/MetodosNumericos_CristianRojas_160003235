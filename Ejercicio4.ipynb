{
 "cells": [
  {
   "cell_type": "markdown",
   "metadata": {},
   "source": [
    "# Ejercicio #4 Metodos Numericos\n",
    "###Tema: Serie de Taylor con Infinitas Derivadas\n",
    "Estudiante: Cristian Alexander Rojas Aza\n",
    "\n",
    "Codigo: 160003235"
   ]
  },
  {
   "cell_type": "code",
   "execution_count": 15,
   "metadata": {
    "collapsed": false
   },
   "outputs": [
    {
     "name": "stdout",
     "output_type": "stream",
     "text": [
      "Ingrese Orden: 6\n",
      "\n",
      "Orden\t Aproximación\t Error(%)\n",
      "\n",
      "0 \t0.7071067812 \t-41.4213562373\n",
      "1 \t0.5219866588 \t-4.3973317527\n",
      "2 \t0.4977544914 \t0.4491017193\n",
      "3 \t0.4998691469 \t0.0261706140\n",
      "4 \t0.5000075508 \t-0.0015101621\n",
      "5 \t0.5000003040 \t-0.0000608001\n",
      "6 \t0.4999999878 \t0.0000024403\n"
     ]
    }
   ],
   "source": [
    "#!/usr/bin/env python\n",
    "# -*- coding: utf-8 -*-\n",
    "\n",
    "import math\n",
    "\n",
    "total = 0\n",
    "\n",
    "def fAprox(n):\n",
    "    \n",
    "    global total\n",
    "    \n",
    "    for i in range(n+1):\n",
    "        \n",
    "        if i == 0:\n",
    "            total = math.cos(math.pi/4)\n",
    "            \n",
    "        elif i == 1:\n",
    "            total += -math.sin(math.pi/4)*(math.pi/12)\n",
    "           \n",
    "        elif i == 2:\n",
    "            total += (-math.cos(math.pi/4)*((math.pi/12)**2))/math.factorial(i)\n",
    "            \n",
    "        elif i == 3:\n",
    "            total += (math.sin(math.pi/4)*((math.pi/12)**3))/math.factorial(i)\n",
    "            \n",
    "        elif i == 4:\n",
    "            total += (math.cos(math.pi/4)*((math.pi/12)**4))/math.factorial(i)\n",
    "            \n",
    "        elif i == 5:\n",
    "            total += (-math.sin(math.pi/4)*((math.pi/12)**5))/math.factorial(i)\n",
    "            \n",
    "        elif i == 6:\n",
    "            total += (-math.cos(math.pi/4)*((math.pi/12)**6))/math.factorial(i)\n",
    "            \n",
    "        else:\n",
    "            print \"Orden no Encontrado\"\n",
    "            break\n",
    "        \n",
    "        error = ((math.cos(math.pi/3)-total)/(math.cos(math.pi/3)))*100\n",
    "        print i, \"\\t%.10f\" % total, \"\\t%.10f\" % error\n",
    "            \n",
    "def main():\n",
    "    \n",
    "    n = input(\"Ingrese Orden: \")\n",
    "    print \"\\nOrden\\t Aproximación\\t Error(%)\\n\"\n",
    "    fAprox(int(n))\n",
    "    \n",
    "\n",
    "if __name__ == \"__main__\":\n",
    "    main()"
   ]
  },
  {
   "cell_type": "code",
   "execution_count": null,
   "metadata": {
    "collapsed": true
   },
   "outputs": [],
   "source": []
  }
 ],
 "metadata": {
  "kernelspec": {
   "display_name": "Python 2",
   "language": "python",
   "name": "python2"
  },
  "language_info": {
   "codemirror_mode": {
    "name": "ipython",
    "version": 2
   },
   "file_extension": ".py",
   "mimetype": "text/x-python",
   "name": "python",
   "nbconvert_exporter": "python",
   "pygments_lexer": "ipython2",
   "version": "2.7.10"
  }
 },
 "nbformat": 4,
 "nbformat_minor": 0
}
