{
 "cells": [
  {
   "cell_type": "markdown",
   "metadata": {},
   "source": [
    "# Ejercicio #1 Metodos Numericos\n",
    "###Tema: Calculo de Error\n",
    "Estudiante: Cristian Alexander Rojas Aza\n",
    "\n",
    "Codigo: 160003235"
   ]
  },
  {
   "cell_type": "code",
   "execution_count": 7,
   "metadata": {
    "collapsed": false
   },
   "outputs": [
    {
     "name": "stdout",
     "output_type": "stream",
     "text": [
      "Valor\t\t Error\n",
      "\n",
      "1.50000 \t0.33333\n",
      "1.62500 \t0.07692\n",
      "1.64583 \t0.01266\n",
      "1.64844 \t0.00158\n",
      "1.64870 \t0.00016\n"
     ]
    }
   ],
   "source": [
    "#!/usr/bin/env python\n",
    "# -*- coding: utf-8 -*-\n",
    "\n",
    "import math\n",
    "import sys\n",
    "\n",
    "def main():\n",
    "    \n",
    "    n = 5\n",
    "    Es = (0.5*10.0**(2-n))\n",
    "    x = 0.5\n",
    "    euler = math.exp(x)\n",
    "    etotal = 1.0\n",
    "    eanterior = 0.0\n",
    "    Ea = ((etotal-eanterior)/etotal)\n",
    "    k=1\n",
    "    print \"Valor\\t\\t Error\\n\"\n",
    "    \n",
    "    while Ea>Es:\n",
    "        eanterior = etotal\n",
    "        etotal= etotal + (x**k/math.factorial(k))\n",
    "        Ea = ((etotal-eanterior)/etotal)*1\n",
    "        print \"%.5f\" % etotal, \"\\t%.5f\" % Ea\n",
    "        k=k+1\n",
    "        \n",
    "if __name__ == \"__main__\":\n",
    "    main()\n"
   ]
  }
 ],
 "metadata": {
  "kernelspec": {
   "display_name": "Python 2",
   "language": "python",
   "name": "python2"
  },
  "language_info": {
   "codemirror_mode": {
    "name": "ipython",
    "version": 2
   },
   "file_extension": ".py",
   "mimetype": "text/x-python",
   "name": "python",
   "nbconvert_exporter": "python",
   "pygments_lexer": "ipython2",
   "version": "2.7.10"
  }
 },
 "nbformat": 4,
 "nbformat_minor": 0
}
