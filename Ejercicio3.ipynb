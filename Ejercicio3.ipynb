{
 "cells": [
  {
   "cell_type": "markdown",
   "metadata": {},
   "source": [
    "# Ejercicio #3 Metodos Numericos\n",
    "###Tema: Calculo Aproximado usando Serie de Taylor\n",
    "Estudiante: Cristian Alexander Rojas Aza\n",
    "\n",
    "Codigo: 160003235"
   ]
  },
  {
   "cell_type": "code",
   "execution_count": 14,
   "metadata": {
    "collapsed": false
   },
   "outputs": [
    {
     "name": "stdout",
     "output_type": "stream",
     "text": [
      "Ingrese Orden: 4\n",
      "\n",
      "Aproximación\n",
      "\n",
      "1.2\n",
      "0.95\n",
      "0.45\n",
      "0.3\n",
      "0.2\n"
     ]
    }
   ],
   "source": [
    "#!/usr/bin/env python\n",
    "# -*- coding: utf-8 -*-\n",
    "\n",
    "import math\n",
    "\n",
    "x = 0\n",
    "total = 0\n",
    "\n",
    "def fA(x,orden):\n",
    "    \n",
    "    global total\n",
    "    \n",
    "    for i in range(orden+1):\n",
    "        \n",
    "        if i == 0:\n",
    "            total = -(0.1*(x**4))-(0.15*(x**3))-(0.5*(x**2))-(0.25*x)+1.2\n",
    "            \n",
    "        elif i == 1:\n",
    "            total += (-(0.4*(x**3))-(0.45*(x**2))-((x))-0.25)\n",
    "           \n",
    "        elif i == 2:\n",
    "            total += (-(1.2*(x**2))-(0.9*x)-1)/math.factorial(i)\n",
    "            \n",
    "        elif i == 3:\n",
    "            total += (-2.4*x)-0.9/math.factorial(i)\n",
    "            \n",
    "        elif i == 4:\n",
    "            total += -2.4/math.factorial(i)\n",
    "            \n",
    "        else:\n",
    "            print \"Orden no Encontrado\"\n",
    "            break\n",
    "        \n",
    "        print total\n",
    "            \n",
    "def main():\n",
    "    global x\n",
    "    orden = input(\"Ingrese Orden: \")\n",
    "    print \"\\nAproximación\\n\"\n",
    "    fA(x,int(orden))\n",
    "    \n",
    "\n",
    "if __name__ == \"__main__\":\n",
    "    main()"
   ]
  },
  {
   "cell_type": "code",
   "execution_count": null,
   "metadata": {
    "collapsed": true
   },
   "outputs": [],
   "source": []
  }
 ],
 "metadata": {
  "kernelspec": {
   "display_name": "Python 2",
   "language": "python",
   "name": "python2"
  },
  "language_info": {
   "codemirror_mode": {
    "name": "ipython",
    "version": 2
   },
   "file_extension": ".py",
   "mimetype": "text/x-python",
   "name": "python",
   "nbconvert_exporter": "python",
   "pygments_lexer": "ipython2",
   "version": "2.7.10"
  }
 },
 "nbformat": 4,
 "nbformat_minor": 0
}
